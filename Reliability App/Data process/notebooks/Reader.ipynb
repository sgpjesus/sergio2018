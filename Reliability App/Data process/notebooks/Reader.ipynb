{
 "cells": [
  {
   "cell_type": "code",
   "execution_count": null,
   "metadata": {
    "scrolled": false
   },
   "outputs": [],
   "source": [
    "%%html\n",
    "<script>\n",
    "code_show=true;\n",
    "function code_toggle() {\n",
    " if (code_show){\n",
    " $('div.input').hide();\n",
    " } else {\n",
    " $('div.input').show();\n",
    " }\n",
    " code_show = !code_show\n",
    "} \n",
    "$( document ).ready(code_toggle);\n",
    "</script>\n",
    "To hide/show code, click <a href=\"javascript:code_toggle()\">here</a>."
   ]
  },
  {
   "cell_type": "code",
   "execution_count": null,
   "metadata": {},
   "outputs": [],
   "source": [
    "#DataBase Connection\n",
    "from sqlalchemy import create_engine, Column, Table, MetaData\n",
    "from sqlalchemy.sql import text\n",
    "\n",
    "#Dataframe importing, series usage, etc.\n",
    "import pandas as pd\n",
    "#Widgets management\n",
    "import traitlets\n",
    "import ipywidgets as widgets\n",
    "from tkinter import Tk, filedialog\n",
    "from IPython.core.display import clear_output, display, HTML\n",
    "display(HTML(open('ipython.css','r').read()))"
   ]
  },
  {
   "cell_type": "code",
   "execution_count": null,
   "metadata": {},
   "outputs": [],
   "source": [
    "#Dataframe connection\n",
    "def db_engine(dsn_hostname='web566.webfaction.com', dsn_port='5432',\n",
    "              dsn_database='analytics', dsn_uid='analytic',\n",
    "              dsn_pwd='analytic#32'):\n",
    "    \"\"\" \"\"\"\n",
    "    try:\n",
    "        conn_string = r\"postgresql+psycopg2://{}:{}@{}:{}/{}\".format(\n",
    "            dsn_uid, dsn_pwd, dsn_hostname, dsn_port, dsn_database)\n",
    "        engine = create_engine(conn_string)\n",
    "        return engine\n",
    "    except:\n",
    "        return None"
   ]
  },
  {
   "cell_type": "code",
   "execution_count": null,
   "metadata": {},
   "outputs": [],
   "source": [
    "#Create Dataframe Connection Engine\n",
    "Conection_engine = db_engine()"
   ]
  },
  {
   "cell_type": "code",
   "execution_count": null,
   "metadata": {},
   "outputs": [],
   "source": [
    "class Display:\n",
    "    # Class that makes a display for the user\n",
    "    def __init__(self):\n",
    "        # Initialization of class. Spawns the needed widgets\n",
    "        \n",
    "        # Excel loading button\n",
    "        self._bsf = widgets.Button(layout=widgets.Layout(width='200px',height='50px'))\n",
    "        self._bsf.add_traits(files=traitlets.traitlets.List())\n",
    "        self._bsf.description = \"Select File\"\n",
    "        self._bsf.icon = \"square-o\"\n",
    "        self._bsf.on_click(self.select_excel)\n",
    "                \n",
    "        #Submit data button\n",
    "        self._bds = widgets.Button(layout=widgets.Layout(width='200px',height='50px'))\n",
    "        self._bds.description = \"Create Table\"\n",
    "        self._bds.on_click(self.submit_data)\n",
    "        self._bds.disabled = True\n",
    "        \n",
    "        # Data printing button\n",
    "        self._bdp = widgets.Button(layout=widgets.Layout(width='200px',height='50px'))\n",
    "        self._bdp.description = \"Show Data\"\n",
    "        self._bdp.on_click(self.print_data)\n",
    "        self._bdp.disabled = True\n",
    "        \n",
    "        # Name of table text area\n",
    "        self._tnt = widgets.Text(value='',\n",
    "                                 placeholder='Insert Table Name',\n",
    "                                 description='Table name:',\n",
    "                                 disabled=False)\n",
    "        \n",
    "        # Table selection droplist\n",
    "        style = {'description_width': 'initial'}\n",
    "        self._dds = widgets.Dropdown(options=['Select file'], value='Select file', disabled=True, style=style,\n",
    "                                     description='Spreadsheet:')\n",
    "        \n",
    "        # Observe changes in the value of the list\n",
    "        self._dds.observe(self.choose_spreadsheet, names='value', type='change')\n",
    "        \n",
    "        # Observe changes in the value of text\n",
    "        self._tnt.observe(self.enable_table_creation, names='value', type='change')\n",
    "        \n",
    "        #Output\n",
    "        self._output = widgets.Output()\n",
    "        \n",
    "        # Layout\n",
    "        self.box_layout = widgets.Layout(display='center',\n",
    "                            flex_flow='row',\n",
    "                            align_items='center',\n",
    "                            border='None',\n",
    "                            justify_content='space-between',\n",
    "                            width='900px')   \n",
    "        self._box = widgets.Box(children=[self._bsf,self._bdp, self._dds], layout=self.box_layout, main_size = 10)\n",
    "        self._secondbox = widgets.Box(children=[self._bds, self._tnt])\n",
    "        display(self._box)\n",
    "        display(self._output)\n",
    "        self._vbox = widgets.VBox()\n",
    "        self.chosen_list = []\n",
    "        \n",
    "    def select_excel(self, b): \n",
    "        # Create Tk root\n",
    "        root = Tk()\n",
    "        # Hide the main window\n",
    "        root.withdraw()\n",
    "        # Raise the root to the top of all windows.\n",
    "        root.call('wm', 'attributes', '.', '-topmost', True)\n",
    "        #File selection screen\n",
    "        new_file = filedialog.askopenfilename(multiple=True,filetypes = [(\"XLS\",\"*.xls\"), (\"XLSX\", \"*.xlsx\")])\n",
    "        \n",
    "        if new_file != \"\":\n",
    "            self._bsf.files = new_file\n",
    "            self._bsf.description = \"File Selected\"\n",
    "            self._bsf.icon = \"check-square-o\"\n",
    "            self._bsf.button_style = \"success\"\n",
    "            #self._blj.disabled = False\n",
    "            #print('Selected file: {}'.format(self._bsf.files))\n",
    "            file_path = self._bsf.files\n",
    "            self._excel = pd.ExcelFile(file_path[0], on_demand = True)\n",
    "            self._sheets = self._excel.sheet_names\n",
    "            self._dds.disabled = False\n",
    "            self._dds.options = ['↓ Select spreadsheet ↓'] + self._sheets \n",
    "            self._dds.value = '↓ Select spreadsheet ↓'\n",
    "            \n",
    "            self.load_excel\n",
    "    \n",
    "    def load_excel(self, b):\n",
    "        self._dataframe = pd.read_excel(self._bsf.files[0], sheet_name = self._dds.value) \n",
    "        self._blj.button_style = \"success\"\n",
    "        display(self._dataframe.head())\n",
    "        self._csm.disabled = False\n",
    "        self._csm.options = list(self._dataframe.columns.values)\n",
    "    \n",
    "\n",
    "    def choose_spreadsheet(self, b):\n",
    "        if self._dds.value in self._sheets :\n",
    "            with self._output:\n",
    "                self._output.clear_output()\n",
    "                display(HTML(\"\"\"<div class=\"sk-circle\">\n",
    "                         <div class=\"sk-circle1 sk-child\"></div>\n",
    "                         <div class=\"sk-circle2 sk-child\"></div>\n",
    "                         <div class=\"sk-circle3 sk-child\"></div>\n",
    "                         <div class=\"sk-circle4 sk-child\"></div>\n",
    "                         <div class=\"sk-circle5 sk-child\"></div>\n",
    "                         <div class=\"sk-circle6 sk-child\"></div>\n",
    "                         <div class=\"sk-circle7 sk-child\"></div>\n",
    "                         <div class=\"sk-circle8 sk-child\"></div>\n",
    "                         <div class=\"sk-circle9 sk-child\"></div>\n",
    "                         <div class=\"sk-circle10 sk-child\"></div>\n",
    "                         <div class=\"sk-circle11 sk-child\"></div>\n",
    "                         <div class=\"sk-circle12 sk-child\"></div>\n",
    "                         </div>\"\"\"))\n",
    "                clear_output(wait=True)\n",
    "            self._dataframe = pd.read_excel(self._bsf.files[0], sheet_name = self._dds.value)\n",
    "            self._bdp.disabled = False\n",
    "            self.column_names = list(self._dataframe.columns.values)\n",
    "            self.generate_droplists()\n",
    "    \n",
    "    def generate_droplists(self):\n",
    "\n",
    "        self.droptable_list = []\n",
    "        self.hbox_list = []\n",
    "        self.droptable_options = pd.read_sql_table('reliability', Conection_engine).columns.values.tolist()\n",
    "        for index, element in enumerate(self.column_names):\n",
    "            self.droptable_list.append(widgets.Dropdown(options=['No Column Atributed']+self.droptable_options,\n",
    "                                                        value='No Column Atributed',description=element,))\n",
    "            if index % 4 == 3:\n",
    "                self.hbox_list.append(widgets.HBox(self.droptable_list))\n",
    "                self.droptable_list = []\n",
    "        \n",
    "        \n",
    "        self.hbox_list.append(widgets.HBox(self.droptable_list))\n",
    "\n",
    "        self._vbox = widgets.VBox(self.hbox_list)\n",
    "        \n",
    "        for hbox in self._vbox.children:\n",
    "            for droptable in hbox.children:\n",
    "                droptable.observe(self.refresh_droplists, names='value')\n",
    "        self._tnt.value = self._dds.value\n",
    "        display(self._box)\n",
    "        with self._output:\n",
    "            self._output.clear_output()\n",
    "            display(self._vbox)\n",
    "            display(self._secondbox)\n",
    "        \n",
    "    def print_data(self, b):\n",
    "        for element in self.column_names:\n",
    "            display(self._dataframe[element].head())\n",
    "        self._bdp.button_style = \"success\"\n",
    "        self._bdp.description = \"Data Shown\"\n",
    "        self._bdp.disabled = True\n",
    "        \n",
    "    def refresh_droplists(self, b):\n",
    "        self.chosen_list = list()\n",
    "        for hbox in self._vbox.children:\n",
    "            for droplist in hbox.children:\n",
    "                droplist.unobserve(self.refresh_droplists, names='value')\n",
    "                if droplist.value != 'No Column Atributed':\n",
    "                    self.chosen_list.append(droplist.value)\n",
    "        self.unchosen_list = ['No Column Atributed']+[element for element in self.droptable_options if element not in self.chosen_list]\n",
    "        \n",
    "        for hbox in self._vbox.children:\n",
    "            for droplist in hbox.children:\n",
    "                if droplist.value == 'No Column Atributed':\n",
    "                    droplist.options = self.unchosen_list\n",
    "                else:\n",
    "                    droplist.options = [droplist.value] + self.unchosen_list\n",
    "        for hbox in self._vbox.children:\n",
    "            for droptable in hbox.children:\n",
    "                droptable.observe(self.refresh_droplists, names='value')\n",
    "        \n",
    "    def enable_table_creation(self, b):\n",
    "        if self._tnt.value == '':\n",
    "            self._bds.disabled = True\n",
    "        else:\n",
    "            self._bds.disabled = False\n",
    "            \n",
    "    def submit_data(self, b):\n",
    "        self._switcheroo_dict = {}\n",
    "        self._prepared_df = self._dataframe\n",
    "        for hbox in self._vbox.children:\n",
    "            for droplist in hbox.children:\n",
    "                if droplist.value != 'No Column Atributed':\n",
    "                    self._switcheroo_dict[droplist.description] = droplist.value\n",
    "                else:\n",
    "                    del self._prepared_df[droplist.description]\n",
    "        self._prepared_df = self._prepared_df.rename(columns=self._switcheroo_dict)\n",
    "        self._table_name = 'wo_' + self._tnt.value\n",
    "        #self._prepared_df.to_sql(self._table_name, Conection_engine)"
   ]
  },
  {
   "cell_type": "code",
   "execution_count": null,
   "metadata": {
    "scrolled": false
   },
   "outputs": [],
   "source": [
    "d = Display()"
   ]
  },
  {
   "cell_type": "code",
   "execution_count": null,
   "metadata": {},
   "outputs": [],
   "source": [
    "dataframe = d._prepared_df[:23408]"
   ]
  },
  {
   "cell_type": "code",
   "execution_count": null,
   "metadata": {},
   "outputs": [],
   "source": [
    "len(dataframe)"
   ]
  },
  {
   "cell_type": "code",
   "execution_count": null,
   "metadata": {},
   "outputs": [],
   "source": [
    "dataframe['clientid'] = [4 for i in range(23408)]"
   ]
  },
  {
   "cell_type": "code",
   "execution_count": null,
   "metadata": {},
   "outputs": [],
   "source": [
    "dataframe[isinstance(dataframe.wo_total_cost.values(), str)]"
   ]
  },
  {
   "cell_type": "code",
   "execution_count": null,
   "metadata": {},
   "outputs": [],
   "source": [
    "dataframe.to_sql('reliability', Conection_engine, if_exists='append', index=False)"
   ]
  },
  {
   "cell_type": "code",
   "execution_count": null,
   "metadata": {},
   "outputs": [],
   "source": [
    "print(dataframe.wo_total_cost.values == str)"
   ]
  },
  {
   "cell_type": "code",
   "execution_count": null,
   "metadata": {},
   "outputs": [],
   "source": [
    "aux_list = list()\n",
    "for element in dataframe.wo_total_cost.values:\n",
    "    if type(element) == str:\n",
    "        element = float(element[:-1].replace(',',''))\n",
    "        print(element)\n",
    "        aux_list.append(element)\n",
    "    else:\n",
    "        aux_list.append(element)"
   ]
  },
  {
   "cell_type": "code",
   "execution_count": null,
   "metadata": {},
   "outputs": [],
   "source": [
    "aux_list"
   ]
  },
  {
   "cell_type": "code",
   "execution_count": null,
   "metadata": {},
   "outputs": [],
   "source": [
    "del dataframe['wo_total_cost']\n",
    "dataframe['wo_total_cost'] = aux_list"
   ]
  },
  {
   "cell_type": "code",
   "execution_count": null,
   "metadata": {},
   "outputs": [],
   "source": [
    "dataframe"
   ]
  },
  {
   "cell_type": "code",
   "execution_count": null,
   "metadata": {},
   "outputs": [],
   "source": [
    "None"
   ]
  },
  {
   "cell_type": "code",
   "execution_count": null,
   "metadata": {},
   "outputs": [],
   "source": [
    "widgets.Button"
   ]
  },
  {
   "cell_type": "code",
   "execution_count": null,
   "metadata": {},
   "outputs": [],
   "source": [
    "X = 'Button'"
   ]
  },
  {
   "cell_type": "code",
   "execution_count": null,
   "metadata": {},
   "outputs": [],
   "source": [
    "getattr(widgets,X)"
   ]
  },
  {
   "cell_type": "code",
   "execution_count": null,
   "metadata": {},
   "outputs": [],
   "source": []
  }
 ],
 "metadata": {
  "kernelspec": {
   "display_name": "Python 3",
   "language": "python",
   "name": "python3"
  },
  "language_info": {
   "codemirror_mode": {
    "name": "ipython",
    "version": 3
   },
   "file_extension": ".py",
   "mimetype": "text/x-python",
   "name": "python",
   "nbconvert_exporter": "python",
   "pygments_lexer": "ipython3",
   "version": "3.6.5"
  }
 },
 "nbformat": 4,
 "nbformat_minor": 2
}
